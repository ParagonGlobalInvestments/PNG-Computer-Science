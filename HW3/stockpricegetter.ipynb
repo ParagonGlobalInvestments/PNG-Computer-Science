{
 "cells": [
  {
   "cell_type": "code",
   "execution_count": 4,
   "id": "41741965",
   "metadata": {},
   "outputs": [],
   "source": [
    "import yfinance as yf\n",
    "import pandas as pd\n",
    "\n",
    "# List of tickers to retrieve data for\n",
    "tickers = ['AAPL', 'AMZN']\n",
    "\n",
    "# Create an empty dictionary to store the results for each ticker\n",
    "results_dict = {}\n",
    "\n",
    "# Retrieve data for each ticker and store it in the results dictionary\n",
    "for ticker in tickers:\n",
    "    # Create a ticker object for the current ticker\n",
    "    t = yf.Ticker(ticker)\n",
    "    \n",
    "    # Retrieve historical data for the current ticker over the past year\n",
    "    hist = t.history(period='1y')\n",
    "    \n",
    "    # Create a DataFrame to store the results for the current ticker\n",
    "    ticker_df = pd.DataFrame(columns=['Date', 'Open', 'High', 'Low', 'Close'])\n",
    "    \n",
    "    # Loop through each row in the historical data and add it to the DataFrame for the current ticker\n",
    "    for index, row in hist.iterrows():\n",
    "        ticker_df = ticker_df.append({'Date': index.date(), 'Open': row['Open'], 'High': row['High'], 'Low': row['Low'], 'Close': row['Close']}, ignore_index=True)\n",
    "    \n",
    "    # Store the DataFrame for the current ticker in the results dictionary\n",
    "    results_dict[ticker] = ticker_df\n",
    "\n",
    "# Save the results to an Excel file with each stock on a separate sheet\n",
    "with pd.ExcelWriter('stock_prices.xlsx') as writer:\n",
    "    for ticker, ticker_df in results_dict.items():\n",
    "        ticker_df.to_excel(writer, sheet_name=ticker, index=False)"
   ]
  },
  {
   "cell_type": "code",
   "execution_count": null,
   "id": "b3f20587",
   "metadata": {},
   "outputs": [],
   "source": []
  }
 ],
 "metadata": {
  "kernelspec": {
   "display_name": "Python 3",
   "language": "python",
   "name": "python3"
  },
  "language_info": {
   "codemirror_mode": {
    "name": "ipython",
    "version": 3
   },
   "file_extension": ".py",
   "mimetype": "text/x-python",
   "name": "python",
   "nbconvert_exporter": "python",
   "pygments_lexer": "ipython3",
   "version": "3.8.8"
  }
 },
 "nbformat": 4,
 "nbformat_minor": 5
}
