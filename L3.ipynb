{
  "cells": [
    {
      "attachments": {},
      "cell_type": "markdown",
      "metadata": {},
      "source": [
        "1. Quarter-long Project"
      ]
    },
    {
      "attachments": {},
      "cell_type": "markdown",
      "metadata": {},
      "source": [
        "* Learning Objectives:\n",
        "    + Filtering and displaying financial data\n",
        "    + Using your newly acquired Python skills on an actual dataset\n",
        "    + Working example: https://jhsivadas-stock-filter-filter-al7bq7.streamlit.app/\n",
        "    \n",
        "* Implementation: \n",
        "    + We wil provide you a CSV file with stock data\n",
        "    + Create a stock selection filter by financial data\n",
        "    + Build it using Python and Streamlit  \n",
        "\n",
        "* Incentives:\n",
        "    + Top 2 projects will serve as model for other PNG chapters\n",
        "    + And will be implemented with real-world data (we now have a PNG fund)"
      ]
    },
    {
      "attachments": {},
      "cell_type": "markdown",
      "metadata": {},
      "source": [
        "2. Intro to Numpy"
      ]
    },
    {
      "attachments": {},
      "cell_type": "markdown",
      "metadata": {},
      "source": [
        "Numpy is a library that we use when working with arrays. It stands for Numerical Python and allows us to perform\n",
        "matrix transformations, filter arrays, and process large amounts of data in a seemingless way. This library has\n",
        "many applications in data science, machine learning, linear algebra, finance, and statistics. </br>\n",
        "\n",
        "Installation:\n",
        "```\n",
        "pip install numpy\n",
        "```\n",
        "\n",
        "Learn more at: https://www.w3schools.com/python/numpy/numpy_intro.asp </br>\n",
        "Examples: https://www.geeksforgeeks.org/python-numpy/ </br>"
      ]
    },
    {
      "cell_type": "code",
      "execution_count": null,
      "metadata": {},
      "outputs": [],
      "source": [
        "# Importing numPy\n",
        "import numpy as np\n",
        "\n",
        "# Creating an array from a list\n",
        "array1 = np.array([3, 8, 10, 12])\n",
        "print(\"Numpy array with rank 1 \\n\", array1)\n",
        "array2 = np.array([[10, 1],\n",
        "                [6, 7, 99]])\n",
        "print(\"Numpy array with rank 2 \\n\", array2)\n",
        "\n",
        "# Creating an array from a tuple\n",
        "t_array = np.array((3, 7, 99, 10))\n",
        "print(\"Array created using a tuple\\n\", t_array)"
      ]
    },
    {
      "attachments": {},
      "cell_type": "markdown",
      "metadata": {},
      "source": [
        "* Accessing an array index"
      ]
    },
    {
      "cell_type": "code",
      "execution_count": null,
      "metadata": {},
      "outputs": [],
      "source": [
        "# Initial Array\n",
        "arr = np.array([[-1, 2, 0, 4],\n",
        "                [4, -0.5, 6, 0],\n",
        "                [2.6, 0, 7, 8],\n",
        "                [3, -10, 9, 2.0]])\n",
        "\n",
        "\n",
        "# Printing a range of Array\n",
        "# with the use of slicing method\n",
        "sliced_arr = t_array[:2, ::3]\n",
        "print (\"Array with first 2 rows and\"\n",
        "    \" alternate columns(0 and 3):\\n\", sliced_arr)\n",
        " \n",
        "# Printing elements at\n",
        "# specific Indices\n",
        "Index_arr = arr[[1, 0, 2, 3], \n",
        "                [3, 4, 1, 0]]\n",
        "print (\"\\nElements at indices (1, 3), \"\n",
        "    \"(0, 4), (2, 1), (3, 0):\\n\", Index_arr)"
      ]
    },
    {
      "attachments": {},
      "cell_type": "markdown",
      "metadata": {},
      "source": [
        "* Basic Array Operations"
      ]
    },
    {
      "cell_type": "code",
      "execution_count": null,
      "metadata": {},
      "outputs": [],
      "source": [
        "# Defining Array 1\n",
        "a = np.array([[10, 7, 2],\n",
        "              [4, 16, 11]])\n",
        " \n",
        "# Defining Array 2\n",
        "b = np.array([[4, 3, 1],\n",
        "              [2, 1, 5.5]])\n",
        "               \n",
        "# Adding 1 to every element\n",
        "print (\"Adding 1 to every element:\", a + 1)\n",
        " \n",
        "# Subtracting 2 from each element\n",
        "print (\"\\nSubtracting 2 from each element:\", b - 2)\n",
        " \n",
        "# sum of array elements\n",
        "# Performing Unary operations\n",
        "print (\"\\nSum of all array \"\n",
        "       \"elements: \", a.sum())\n",
        " \n",
        "# Adding two arrays\n",
        "# Performing Binary operations\n",
        "print (\"\\nArray sum:\\n\", a + b)"
      ]
    },
    {
      "attachments": {},
      "cell_type": "markdown",
      "metadata": {},
      "source": [
        "* Data types of a numPy array\n",
        "    + numPy arrays are usually comprised of numbers, but the data types of its elements can be anything.\n",
        "    + The values of a numPy array are stored in what can be conceived as a contiguous block of memory bytes\n",
        "    interpreted by the dtupe object. \n",
        "    + When we create a numPy array, numPy will try to guess a datatype, but functions that construct arrays can\n",
        "    also include an argument to explicitly specify the datatype."
      ]
    },
    {
      "cell_type": "code",
      "execution_count": null,
      "metadata": {},
      "outputs": [],
      "source": [
        "# Integer datatype guessed by Numpy\n",
        "x = np.array([1, 6, 10])  \n",
        "print(\"Integer Datatype: \")\n",
        "print(x.dtype)         \n",
        " \n",
        "# Float datatype guessed by Numpy\n",
        "x = np.array([1.0, 2.0, 2.7]) \n",
        "print(\"\\nFloat Datatype: \")\n",
        "print(x.dtype)  \n",
        " \n",
        "# Forcing a datatype\n",
        "x = np.array([1, 2, 4.6], dtype = np.int64)   \n",
        "print(\"\\nForcing a Datatype: \")\n",
        "print(x, x.dtype)"
      ]
    },
    {
      "attachments": {},
      "cell_type": "markdown",
      "metadata": {},
      "source": [
        "* Mathematical Operations on a numPy array\n",
        "    + Operations are performed element-wise\n",
        "    + Most used functions are sum and transpose. \n",
        "    + Transpose is used very often when performing matrix multiplications in \n",
        "    machine learning models."
      ]
    },
    {
      "cell_type": "code",
      "execution_count": null,
      "metadata": {},
      "outputs": [],
      "source": [
        "\n",
        "# First Array\n",
        "arr1 = np.array([[4, 7], [2, 6], [5, 19]], \n",
        "                 dtype = np.float64)\n",
        "                  \n",
        "# Second Array\n",
        "arr2 = np.array([[3, 6], [2, 8], [1, 8]], \n",
        "                 dtype = np.float64) \n",
        " \n",
        "# Addition of two Arrays\n",
        "a_sum = np.add(arr1, arr2)\n",
        "print(\"Adding two Arrays: \")\n",
        "print(a_sum)\n",
        " \n",
        "# Addition of all Array elements\n",
        "# using the sum method\n",
        "a_sum1 = np.sum(arr1)\n",
        "print(\"\\nAddition of Array elements: \")\n",
        "print(a_sum1)\n",
        " \n",
        "# Square root of an array\n",
        "a_sqrt = np.sqrt(arr1)\n",
        "print(\"\\nSquare root of array1's elements: \")\n",
        "print(a_sqrt)\n",
        " \n",
        "# Transpose of Array using the in-built function 'T'\n",
        "arr_t = arr1.T\n",
        "print(\"\\nTranspose of Array 1: \")\n",
        "print(arr_t)"
      ]
    },
    {
      "attachments": {},
      "cell_type": "markdown",
      "metadata": {},
      "source": [
        "Other numPy array methods can be fund on the table available here: https://www.geeksforgeeks.org/python-numpy/\n"
      ]
    },
    {
      "attachments": {},
      "cell_type": "markdown",
      "metadata": {},
      "source": [
        "3. Intro to Pandas"
      ]
    },
    {
      "attachments": {},
      "cell_type": "markdown",
      "metadata": {},
      "source": [
        "* Why Pandas?\n",
        "    + Easy to manipulate data in a table-like manner\n",
        "    + Suitable for very large datasets\n",
        "    + Easy handling of missing data\n",
        "    + Easy time series manipulation\n",
        "    + Easy to merge and filter different tables\n",
        "    \n",
        "* Installation\n",
        "```\n",
        "    pip install pandas\n",
        "```"
      ]
    },
    {
      "attachments": {},
      "cell_type": "markdown",
      "metadata": {},
      "source": [
        "* Series Object\n",
        "    + One dimensional\n",
        "    + Can hold data of any type\n",
        "    + Supports both integer and label-based indexing"
      ]
    },
    {
      "cell_type": "code",
      "execution_count": null,
      "metadata": {},
      "outputs": [],
      "source": [
        "import pandas as pd\n",
        "import numpy as np\n",
        " \n",
        "# Creating empty series\n",
        "ser = pd.Series()\n",
        "\n",
        "# Printing the empty series\n",
        "print(ser)\n",
        " \n",
        "# Creating an array\n",
        "data = np.array([1, 2, 'j', 'l'])\n",
        "\n",
        "# Converting the array to a series\n",
        "ser = pd.Series(data)\n",
        "print(ser)"
      ]
    },
    {
      "attachments": {},
      "cell_type": "markdown",
      "metadata": {},
      "source": [
        "* Pandas Dataframe\n",
        "\n",
        "Two-dimensional tabular data structure of potentially heterogeneous data types and varying size.\n",
        "Comprised of data organized into rows and columns. In practice, we often create tables by loading\n",
        "data contained in a CSV or Excel file. "
      ]
    },
    {
      "cell_type": "code",
      "execution_count": null,
      "metadata": {},
      "outputs": [],
      "source": [
        "import pandas as pd\n",
        "   \n",
        "# Calling DataFrame constructor\n",
        "df = pd.DataFrame()\n",
        "print(df)\n",
        " \n",
        "# list of strings\n",
        "lst = [['Welcome', 'to', 'PNG'], [\"Class\", \"of\", 2026]]\n",
        "   \n",
        "# Calling DataFrame constructor on list\n",
        "df = pd.DataFrame(lst)\n",
        "print(df)"
      ]
    },
    {
      "attachments": {},
      "cell_type": "markdown",
      "metadata": {},
      "source": [
        "* Practical Examples\n",
        "    + Available at: https://www.digitalocean.com/community/tutorials/python-pandas-module-tutorial)"
      ]
    },
    {
      "cell_type": "code",
      "execution_count": null,
      "metadata": {},
      "outputs": [],
      "source": [
        "# Creating a dataframe using a hashmap / dictionary\n",
        "\n",
        "import pandas as pd\n",
        "import numpy as np\n",
        "df = pd.DataFrame({\n",
        "    \"State\": ['Andhra Pradesh', 'Maharashtra', 'Karnataka', 'Kerala', 'Tamil Nadu'],\n",
        "    \"Capital\": ['Hyderabad', 'Mumbai', 'Bengaluru', 'Trivandrum', 'Chennai'],\n",
        "    \"Literacy %\": [89, 77, 82, 97,85],\n",
        "    \"Avg High Temp(c)\": [33, 30, 29, 31, 32 ]\n",
        "})\n",
        "print(df)"
      ]
    },
    {
      "cell_type": "code",
      "execution_count": null,
      "metadata": {},
      "outputs": [],
      "source": [
        "# Creating a dataframe from a CSV file (in this case, the file \"cities.csv must be\n",
        "# in your working directory\")\n",
        "\n",
        "import pandas as pd\n",
        "data =  pd.read_csv('cities.csv')\n",
        "print(data)"
      ]
    },
    {
      "cell_type": "code",
      "execution_count": null,
      "metadata": {},
      "outputs": [],
      "source": [
        "# Displaying the first two rows of the dataframe\n",
        "print(df.head(2))\n",
        "\n",
        "# Displaying the last two rows of the dataframe\n",
        "print(df.tail(1))\n",
        "\n",
        "# Displaying the summary of the \"Literacy\" column\n",
        "print(df['Literacy %'].describe())\n",
        "\n",
        "# Sorting literacy values\n",
        "print(df.sort_values('Literacy %', ascending=False))"
      ]
    },
    {
      "attachments": {},
      "cell_type": "markdown",
      "metadata": {},
      "source": [
        "* Slicing / filtering rows and columns"
      ]
    },
    {
      "cell_type": "code",
      "execution_count": null,
      "metadata": {},
      "outputs": [],
      "source": [
        "# Slicing / extracting data of a column\n",
        "print(df['Capital'])\n",
        "# OR use an object notation\n",
        "print(df.Capital)\n",
        "\n",
        "# Filtering data\n",
        "print(df[df['Literacy %']>90])\n",
        "print(df[df['State'].isin(['Karnataka', 'Tamil Nadu'])])"
      ]
    },
    {
      "attachments": {},
      "cell_type": "markdown",
      "metadata": {},
      "source": [
        "* Renaming columns"
      ]
    },
    {
      "cell_type": "code",
      "execution_count": null,
      "metadata": {},
      "outputs": [],
      "source": [
        "# Rename the \"Literacy %\" column to \"Literacy percentage\"\n",
        "df.rename(columns = {'Literacy %':'Literacy percentage'}, inplace=True)\n",
        "print(df.head())"
      ]
    },
    {
      "attachments": {},
      "cell_type": "markdown",
      "metadata": {},
      "source": [
        "* Manipulating Dataframes"
      ]
    },
    {
      "cell_type": "code",
      "execution_count": null,
      "metadata": {},
      "outputs": [],
      "source": [
        "import pandas as pd\n",
        "\n",
        "# First dataframe\n",
        "d1 = {  \n",
        "    'Employee_id': ['1', '2', '3', '4', '5'],\n",
        "    'Employee_name': ['Akshar', 'Jones', 'Kate', 'Mike', 'Tina']\n",
        "}\n",
        "df1 = pd.DataFrame(d1, columns=['Employee_id', 'Employee_name'])  \n",
        "print(df1)\n",
        "\n",
        "# Second dataframe\n",
        "d2 = {  \n",
        "    'Employee_id': ['4', '5', '6', '7', '8'],\n",
        "    'Employee_name': ['Meera', 'Tia', 'Varsha', 'Williams', 'Ziva']\n",
        "}\n",
        "df2 = pd.DataFrame(d2, columns=['Employee_id', 'Employee_name'])  \n",
        "print(df2)"
      ]
    },
    {
      "attachments": {},
      "cell_type": "markdown",
      "metadata": {},
      "source": [
        "* Merging dataframes"
      ]
    },
    {
      "cell_type": "code",
      "execution_count": null,
      "metadata": {},
      "outputs": [],
      "source": [
        "print(pd.merge(df1, df2, on='Employee_id'))\n",
        "print(df2)"
      ]
    },
    {
      "attachments": {},
      "cell_type": "markdown",
      "metadata": {},
      "source": [
        "* Grouping data"
      ]
    },
    {
      "cell_type": "code",
      "execution_count": null,
      "metadata": {},
      "outputs": [],
      "source": [
        "group = df2.groupby('Employee_name')\n",
        "print(group.get_group('Meera'))"
      ]
    },
    {
      "attachments": {},
      "cell_type": "markdown",
      "metadata": {},
      "source": [
        "* Concatenating"
      ]
    },
    {
      "cell_type": "code",
      "execution_count": null,
      "metadata": {},
      "outputs": [],
      "source": [
        "print(pd.concat([df1, df2]))"
      ]
    },
    {
      "attachments": {},
      "cell_type": "markdown",
      "metadata": {},
      "source": [
        "* Pandas applications\n",
        "    + Since Pandas is built on top of numPy, both libraries share common applications in data science\n",
        "    and machine learning. \n",
        "    + Futhermore, because pandas allows data to be organized in a tabular fashion,\n",
        "    it is a very useful tool for displaying financial information.\n",
        "    + Very good integration with Jupyter Notebook\n",
        "\n",
        "Pandas functions: https://pandas.pydata.org/docs/reference/general_functions.html </br>\n",
        "References: https://www.geeksforgeeks.org/introduction-to-pandas-in-python/"
      ]
    },
    {
      "attachments": {},
      "cell_type": "markdown",
      "metadata": {},
      "source": [
        "4. Displaying financial data with plotly and streamlit"
      ]
    },
    {
      "attachments": {},
      "cell_type": "markdown",
      "metadata": {},
      "source": [
        "* We will use plotly and streamlit for the project\n",
        "* plotly is a very beginner-friendly way of plotting in Python, and it has many\n",
        "applications in finance, such as the stock filter that we will build for this \n",
        "project.\n",
        "* Streamlit allows us to seeminglessly publish plotly graphs online\n",
        "* Good resources:\n",
        "    + https://www.geeksforgeeks.org/python-plotly-tutorial/\n",
        "    + Used in this lecture: https://towardsdatascience.com/a-multi-page-interactive-dashboard-with-streamlit-and-plotly-c3182443871a"
      ]
    },
    {
      "attachments": {},
      "cell_type": "markdown",
      "metadata": {},
      "source": [
        "First, we must install streamlit and plotly:\n",
        "```\n",
        "pip3 install streamlit\n",
        "pip install plotly\n",
        "```\n",
        "\n",
        "To run a streamlit app, we will type:\n",
        "\n",
        "```\n",
        "streamlit run myapp.py\n",
        "```"
      ]
    },
    {
      "attachments": {},
      "cell_type": "markdown",
      "metadata": {},
      "source": [
        "In the Python file that streamlit will run, we can enter the following code:"
      ]
    },
    {
      "cell_type": "code",
      "execution_count": null,
      "metadata": {},
      "outputs": [],
      "source": [
        "import streamlit as st\n",
        "import pandas as pd\n",
        "import plotly.express as px\n",
        "\n",
        "# In this example, we will use the Gapminder data included in plotly.\n",
        "df = pd.DataFrame(px.data.gapminder())\n",
        "\n",
        "# Check out the data\n",
        "print(df)\n",
        "\n",
        "# Get unique country names\n",
        "clist = df['country'].unique()\n",
        "\n",
        "# Country dropdown\n",
        "country = st.sidebar.selectbox(\"Select a country:\",clist)\n",
        "\n",
        "# Plot header\n",
        "st.header(\"GDP per Capita over time\")\n",
        "\n",
        "# Creating a line with plotly\n",
        "fig = px.line(df[df['country'] == country], \n",
        "    x = \"year\", y = \"gdpPercap\", title = country)\n",
        "\n",
        "# Plotting\n",
        "st.plotly_chart(fig)"
      ]
    },
    {
      "attachments": {},
      "cell_type": "markdown",
      "metadata": {},
      "source": [
        "* Pagination (optional, but makes program cleaner)"
      ]
    },
    {
      "cell_type": "code",
      "execution_count": null,
      "metadata": {},
      "outputs": [],
      "source": [
        "# This is the logic:\n",
        "\n",
        "page = st.sidebar.selectbox('Select page',\n",
        "  ['Country data','Continent data'])\n",
        "if page == 'Country data':\n",
        "  # Display the country content here\n",
        "  pass\n",
        "else:\n",
        "  # Display the continent content here\n",
        "  pass"
      ]
    },
    {
      "cell_type": "code",
      "execution_count": null,
      "metadata": {},
      "outputs": [],
      "source": [
        "# Actual implementation\n",
        "\n",
        "# Importing packages\n",
        "import streamlit as st\n",
        "import pandas as pd\n",
        "import plotly.express as px\n",
        "\n",
        "# Page configurations\n",
        "st.set_page_config(layout = \"wide\")\n",
        "df = pd.DataFrame(px.data.gapminder())\n",
        "st.header(\"National Statistics\")\n",
        "page = st.sidebar.selectbox('Select page',\n",
        "  ['Country data','Continent data'])\n",
        "\n",
        "# Selecting for country or continent\n",
        "## Countries\n",
        "if page == 'Country data':\n",
        "  clist = df['country'].unique()\n",
        "  country = st.selectbox(\"Select a country:\",clist)\n",
        "  col1, col2 = st.columns(2)\n",
        "  fig = px.line(df[df['country'] == country], \n",
        "    x = \"year\", y = \"gdpPercap\",title = \"GDP per Capita\")\n",
        " \n",
        "  col1.plotly_chart(fig,use_container_width = True)\n",
        "  fig = px.line(df[df['country'] == country], \n",
        "    x = \"year\", y = \"pop\",title = \"Population Growth\")\n",
        "  \n",
        "  col2.plotly_chart(fig,use_container_width = True)\n",
        "\n",
        "## Continents\n",
        "else:\n",
        "  contlist = df['continent'].unique()\n",
        " \n",
        "  continent = st.selectbox(\"Select a continent:\",contlist)\n",
        "  col1,col2 = st.columns(2)\n",
        "  fig = px.line(df[df['continent'] == continent], \n",
        "    x = \"year\", y = \"gdpPercap\",\n",
        "    title = \"GDP per Capita\",color = 'country')\n",
        "  \n",
        "  col1.plotly_chart(fig)\n",
        "  fig = px.line(df[df['continent'] == continent], \n",
        "    x = \"year\", y = \"pop\",\n",
        "    title = \"Population\",color = 'country')\n",
        "  \n",
        "  col2.plotly_chart(fig, use_container_width = True)\n",
        "\n",
        "# Notice the amount of repeated code.. how can we optimize?"
      ]
    },
    {
      "attachments": {},
      "cell_type": "markdown",
      "metadata": {},
      "source": [
        "5. Displaying financial data with matplotlib (one example)"
      ]
    },
    {
      "attachments": {},
      "cell_type": "markdown",
      "metadata": {},
      "source": [
        "* Although we won't use matplotlib for the project, it is the most popular\n",
        "library for graphing data on Python, so I have included an example here, taken\n",
        "from matplotlib's official website."
      ]
    },
    {
      "cell_type": "code",
      "execution_count": null,
      "metadata": {},
      "outputs": [],
      "source": [
        "# Example available at: \n",
        "# https://matplotlib.org/1.5.3/examples/pylab_examples/finance_demo.html\n",
        "\n",
        "import matplotlib.pyplot as plt\n",
        "from matplotlib.dates import DateFormatter, WeekdayLocator,\\\n",
        "    DayLocator, MONDAY\n",
        "from matplotlib.finance import quotes_historical_yahoo_ohlc, candlestick_ohlc\n",
        "\n",
        "\n",
        "# (Year, month, day) tuples suffice as args for quotes_historical_yahoo\n",
        "date1 = (2004, 2, 1)\n",
        "date2 = (2004, 4, 12)\n",
        "\n",
        "\n",
        "mondays = WeekdayLocator(MONDAY)        # major ticks on the mondays\n",
        "alldays = DayLocator()              # minor ticks on the days\n",
        "weekFormatter = DateFormatter('%b %d')  # e.g., Jan 12\n",
        "dayFormatter = DateFormatter('%d')      # e.g., 12\n",
        "\n",
        "quotes = quotes_historical_yahoo_ohlc('INTC', date1, date2)\n",
        "if len(quotes) == 0:\n",
        "    raise SystemExit\n",
        "\n",
        "fig, ax = plt.subplots()\n",
        "fig.subplots_adjust(bottom=0.2)\n",
        "ax.xaxis.set_major_locator(mondays)\n",
        "ax.xaxis.set_minor_locator(alldays)\n",
        "ax.xaxis.set_major_formatter(weekFormatter)\n",
        "#ax.xaxis.set_minor_formatter(dayFormatter)\n",
        "\n",
        "#plot_day_summary(ax, quotes, ticksize=3)\n",
        "candlestick_ohlc(ax, quotes, width=0.6)\n",
        "\n",
        "ax.xaxis_date()\n",
        "ax.autoscale_view()\n",
        "plt.setp(plt.gca().get_xticklabels(), rotation=45, horizontalalignment='right')\n"
      ]
    }
  ],
  "metadata": {
    "colab": {
      "collapsed_sections": [],
      "name": "Week_3_Code.ipynb",
      "provenance": []
    },
    "kernelspec": {
      "display_name": "Python 3.7.12 ('env_battleship')",
      "language": "python",
      "name": "python3"
    },
    "language_info": {
      "name": "python",
      "version": "3.7.12"
    },
    "vscode": {
      "interpreter": {
        "hash": "c0160ba2c9041dc15bdcc65733a96c7c821395b2c257095752f7ccb3a0330b17"
      }
    }
  },
  "nbformat": 4,
  "nbformat_minor": 0
}
