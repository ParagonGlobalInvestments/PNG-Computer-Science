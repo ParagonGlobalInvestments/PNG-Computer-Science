{
 "cells": [
  {
   "cell_type": "markdown",
   "metadata": {
    "id": "t_D1tuRypxqa"
   },
   "source": [
    "# PNG Computer Science Lecture 1"
   ]
  },
  {
   "cell_type": "markdown",
   "metadata": {},
   "source": [
    "## 1. Installing Python and Other Useful Software"
   ]
  },
  {
   "cell_type": "markdown",
   "metadata": {},
   "source": [
    "Install the latest version of Python at: https://www.python.org/downloads/ . \n",
    "For this class, we will use the 64-bit version because it supports some advanced \n",
    "data analysis tools, although it requires more memory to run Python can be \n",
    "installed in different versions. To check which one you have, you can open the \n",
    "terminal/command line and type: </br>\n",
    "\n",
    "```\n",
    "python --version \n",
    "```\n",
    "\n",
    "this will give you an output like:\n",
    "```\n",
    "Python 3.8.3\n",
    "```\n",
    "\n",
    "You also need to set your Python Path so your computer can recognize python and its related commands. To do so, follow the tutorials here:\n",
    "\n",
    "https://realpython.com/add-python-to-path/\n",
    "\n",
    "Python has built in software that you can use to make scripts to run on the computer. However, most programmers use an IDE (internal Development Environment) to code in due to their ease of use. The most popular and multi-purpose IDE is VSCode, which you can download here:\n",
    "https://code.visualstudio.com/download\n",
    "\n",
    "Once you download it, you can simply run it and open the folder containing all your python files. \n"
   ]
  },
  {
   "cell_type": "markdown",
   "metadata": {},
   "source": [
    "***Pip***\n",
    "Python comes with a built-in package handler that allows you to install and use different libraries in your code. These libraries are extensions of Python's basic code, where each library covers special tasks (like web development, data management, data analysis, etc...). \n",
    "\n",
    "Anytime we need a new package we simply inpt the commands on a terminal command line as follows:\n",
    "***pip3 install package_name***\n",
    "\n",
    "For our purposes, we will need the following packages\n",
    "1. pip3 install jupyter\n",
    "2. pip3 install pandas\n",
    "3. pip3 install matplotlib\n",
    "4. pip3 install numpy\n",
    "5. pip3 install statsmodels"
   ]
  },
  {
   "cell_type": "markdown",
   "metadata": {
    "id": "KRCwgPM5p4Mj"
   },
   "source": [
    "## 2. Python Language Overview, Handling Packages"
   ]
  },
  {
   "cell_type": "markdown",
   "metadata": {},
   "source": [
    "\n",
    "Relationship between Python and C: </br>\n",
    "Python is an abstraction of C. While Python must first be interpreted and then compiled, \n",
    "C can be compiled directly. By 'compiled', we mean that translating C code into \n",
    "the 0s and 1s that underly every computer application is done directly by a program\n",
    "called a compiler. This compiler (such as GDB and clang, for C) is different\n",
    "from an interpreter (such as CPython, for Python), which \"reads\" the code and \n",
    "translates it into a script that can be more easily understood by the computer. \n",
    "Once we have this easier to understand code, we can then compile it using a compiler. \n",
    "Since C code can be compiled directly while Python code must first be interpreted \n",
    "and then compiled, it is a consensus that C code runs faster than Python. For this reason, \n",
    "you find many memory-intensive softwares (such as 3D games and flight programs) being written with C code. </br>\n",
    "\n",
    "However, for this course we are coding in Python because it is a language that\n",
    "supports many Data Science and Machine Learning libraries and allows for easy\n",
    "string and array manipulation, unlike C. Because Python provides these conveniences\n",
    "and rids us of the burden of allocating memory and managing \"array safety\" \n",
    "(you'll understand what this means if you read more about memory management),\n",
    "we say that Python is \"further from the metal\" than C. That is, Python isn't \n",
    "concerned with many of the computer's physics and hardware limitations. \n",
    "Furthermore, there are other abstract languages built from C, such as Go.\n",
    "We won't go into these languages here, but you are free to study them if you'd like!\n",
    "\n"
   ]
  },
  {
   "cell_type": "markdown",
   "metadata": {},
   "source": [
    "## 3. Your First Program"
   ]
  },
  {
   "cell_type": "markdown",
   "metadata": {},
   "source": [
    "1. First - Open and IDE (Internal Development Environment, such as Visual Studio Code) You can also use the built-in Python editor during this first class. Feel free to attend office hours if you'd like to use an IDE and are having trouble setting it up.\n",
    "2. Then, create a Python file -- with the file ending .py\n",
    "3. Anywhere in the code write the following:"
   ]
  },
  {
   "cell_type": "code",
   "execution_count": 2,
   "metadata": {},
   "outputs": [
    {
     "name": "stdout",
     "output_type": "stream",
     "text": [
      "Hello, world!\n"
     ]
    }
   ],
   "source": [
    "print(\"Hello, world!\")"
   ]
  },
  {
   "cell_type": "markdown",
   "metadata": {},
   "source": [
    "You can print all sorts of values in Python. This interaction between code and the physical computer is called Input/Output. More examples of output include:"
   ]
  },
  {
   "cell_type": "code",
   "execution_count": 3,
   "metadata": {},
   "outputs": [
    {
     "name": "stdout",
     "output_type": "stream",
     "text": [
      "1\n",
      "3.0\n",
      "True\n"
     ]
    }
   ],
   "source": [
    "print(1)\n",
    "print(6/2)\n",
    "print(True)"
   ]
  },
  {
   "cell_type": "markdown",
   "metadata": {},
   "source": [
    "You can also combine different types of data (we will discuss data types soon) through operations in python"
   ]
  },
  {
   "cell_type": "code",
   "execution_count": 9,
   "metadata": {},
   "outputs": [
    {
     "name": "stdout",
     "output_type": "stream",
     "text": [
      "Hi There Joe. Happy 15.0 Birthday! False\n",
      "Hi There Joe. Happy 15.0 Birthday! False\n",
      "Hi There 50\n"
     ]
    }
   ],
   "source": [
    "# F-String\n",
    "print(f\"Hi There Joe. Happy {30/2} Birthday! {False}\")\n",
    "\n",
    "# String formatting\n",
    "print(\"Hi There Joe. Happy {} Birthday! {}\".format(30/2, False))\n",
    "\n",
    "print(\"Hi There\" + \" 50\")"
   ]
  },
  {
   "cell_type": "markdown",
   "metadata": {},
   "source": [
    "We've shown output, but you can also do input in programs"
   ]
  },
  {
   "cell_type": "code",
   "execution_count": 11,
   "metadata": {},
   "outputs": [
    {
     "name": "stdout",
     "output_type": "stream",
     "text": [
      "Enter your name: Jay\n",
      "Hi There Jay\n"
     ]
    }
   ],
   "source": [
    "val = input(\"Enter your name: \")\n",
    "print(\"Hi There {}\".format(val))"
   ]
  },
  {
   "cell_type": "markdown",
   "metadata": {
    "id": "orLltd3wp-u1"
   },
   "source": [
    "## 4. Data Types and Variables"
   ]
  },
  {
   "cell_type": "markdown",
   "metadata": {},
   "source": [
    "In programming, data types refer to the different kinds of data that can be stored and manipulated by a computer program. Different data types are used to represent different kinds of values, such as numbers, text, and true/false values. Here are some common data types:\n",
    "\n",
    "Integer: An integer is a whole number (positive, negative, or zero) that can be used for counting or performing arithmetic operations.\n",
    "\n",
    "Float: A float (or floating-point number) is a number with a decimal point. It is used to represent real numbers, such as fractions or decimal values.\n",
    "\n",
    "Boolean: A boolean data type can only have two values: true or false. It is commonly used in programming for conditional statements and logical operations.\n",
    "\n",
    "String: A string is a sequence of characters, such as letters, numbers, and symbols. It is used to represent text and can be manipulated with operations such as concatenation (combining two strings) or substring (extracting a portion of a string).\n",
    "\n",
    "Null: Null is a special data type that represents the absence of a value. It is often used to indicate that a variable has not been assigned a value yet.\n",
    "\n",
    "Understanding data types is important in programming because it affects how data is stored in memory and how it can be manipulated. Different programming languages may have different data types and different rules for how they are used, so it's important to refer to language-specific documentation and tutorials for more information."
   ]
  },
  {
   "cell_type": "code",
   "execution_count": 18,
   "metadata": {},
   "outputs": [],
   "source": [
    "### Examples of data types\n",
    "\n",
    "# Integer\n",
    "5\n",
    "\n",
    "# Float\n",
    "5.0\n",
    "\n",
    "# Boolean\n",
    "True\n",
    "False\n",
    "\n",
    "# String\n",
    "\"Hi\"\n",
    "\n",
    "# Null\n",
    "None"
   ]
  },
  {
   "cell_type": "markdown",
   "metadata": {},
   "source": [
    "You can also store data into \"variables\", which are simply names that can be used to access data later.\n",
    "When you put data into a variable, you are assigning that data value to the name of the variable. If you access that\n",
    "variable or assign a new value to it, that variable will take on that new value"
   ]
  },
  {
   "cell_type": "code",
   "execution_count": 20,
   "metadata": {
    "scrolled": true
   },
   "outputs": [
    {
     "name": "stdout",
     "output_type": "stream",
     "text": [
      "5\n",
      "7\n",
      "True\n"
     ]
    }
   ],
   "source": [
    "num = 5\n",
    "print(num)\n",
    "num = 7\n",
    "print(num)\n",
    "num = True\n",
    "print(num)"
   ]
  },
  {
   "cell_type": "markdown",
   "metadata": {},
   "source": [
    "Variables can be named almost anything, with a few exceptions. If python has built in commands (i.e. list, or, and, etc...) you cannot name variables those as those are commands and will be interpreted as such"
   ]
  },
  {
   "cell_type": "markdown",
   "metadata": {},
   "source": [
    "Python is a \"dynamic\" programming languages, in that the computer automatically looks at the data you pass in and interprets it for the computer to process. Many other languages (like C, Java, and C++) are static type languages where you have to declare the type of the data when you create the variable: (i.e. int j = 5;). \n",
    "This makes programming easier for Python but also makes it slower, as the computer has to figure out the type of each data."
   ]
  },
  {
   "cell_type": "markdown",
   "metadata": {},
   "source": [
    "## 5.  Arithmetic Operators"
   ]
  },
  {
   "cell_type": "markdown",
   "metadata": {},
   "source": [
    "Arithmetic operators are symbols or functions that are used to perform mathematical operations on numerical values. The most commonly used arithmetic operators are:\n",
    "\n",
    "- Addition (+): used to add two or more numbers together.\n",
    "- Subtraction (-): used to subtract one number from another.\n",
    "- Multiplication (*): used to multiply two or more numbers together.\n",
    "- Division (/): used to divide one number by another.\n",
    "- Modulus (%): used to find the remainder when one number is divided by another.\n",
    "- Exponentiation (**): used to raise a number to a power.<br>\n",
    "\n",
    "For example, if we have two numbers, 5 and 3, we can perform various arithmetic operations on them:\n",
    "\n",
    "5 + 3 = 8 (addition)<br>\n",
    "5 - 3 = 2 (subtraction)<br>\n",
    "5 * 3 = 15 (multiplication)<br>\n",
    "5 / 3 = 1.66666667 (division)<br>\n",
    "5 % 3 = 2 (modulus)<br>\n",
    "5 ** 3 = 125 (exponentiation)<br>\n",
    "Boolean operators are used in logic and programming to compare values and evaluate conditions. The most commonly used boolean operators are:\n",
    "\n",
    "And (&&): returns true if both operands are true.<br>\n",
    "Or (||): returns true if either operand is true.<br>\n",
    "Not (!): returns the opposite boolean value of the operand.<br>\n",
    "For example, if we have two boolean values, true and false, we can perform various boolean operations on them:<br>\n",
    "\n",
    "true && false = false (and)<br>\n",
    "true || false = true (or)<br>\n",
    "!true = false (not)<br>\n",
    "\n",
    "Boolean operators are commonly used in programming to control the flow of execution based on conditions. For example, if we want to perform an action only if a certain condition is true, we can use a boolean operator to check the condition and execute the action accordingly."
   ]
  },
  {
   "cell_type": "code",
   "execution_count": 21,
   "metadata": {
    "colab": {
     "base_uri": "https://localhost:8080/",
     "height": 517
    },
    "executionInfo": {
     "elapsed": 172,
     "status": "ok",
     "timestamp": 1648525430765,
     "user": {
      "displayName": "Lucas Mantovani",
      "userId": "13989531471486559235"
     },
     "user_tz": 300
    },
    "id": "tptz4gs1s-hw",
    "outputId": "b23f1c9c-5122-443a-d40c-47840a73fb07"
   },
   "outputs": [
    {
     "data": {
      "text/html": [
       "<img src = \"https://d1e4pidl3fu268.cloudfront.net/f20083ef-a2fb-4673-ac88-13d58ba68133/Arithmeticoperators.png\" width = \"500\" height = \"500\" align = \"center\"/> <img src = \"https://external-content.duckduckgo.com/iu/?u=https%3A%2F%2Fi0.wp.com%2Fmakemeanalyst.com%2Fwp-content%2Fuploads%2F2017%2F06%2FRelational-Operators-in-Python.png%3Fresize%3D508%252C305&f=1&nofb=1\" width = \"570\" height = \"400\" align = \"center\"/>"
      ],
      "text/plain": [
       "<IPython.core.display.HTML object>"
      ]
     },
     "execution_count": 21,
     "metadata": {},
     "output_type": "execute_result"
    }
   ],
   "source": [
    "from IPython.display import HTML\n",
    "html_code = '<img src = \"https://d1e4pidl3fu268.cloudfront.net/f20083ef-a2fb-4673-ac88-13d58ba68133/Arithmeticoperators.png\" width = \"500\" height = \"500\" align = \"center\"/> <img src = \"https://external-content.duckduckgo.com/iu/?u=https%3A%2F%2Fi0.wp.com%2Fmakemeanalyst.com%2Fwp-content%2Fuploads%2F2017%2F06%2FRelational-Operators-in-Python.png%3Fresize%3D508%252C305&f=1&nofb=1\" width = \"570\" height = \"400\" align = \"center\"/>'\n",
    "HTML(html_code)"
   ]
  },
  {
   "cell_type": "markdown",
   "metadata": {},
   "source": [
    "Numbers can be integers or floats. In Python, we don't need to specify\n",
    "if it is either, but it might be useful to convert between the two\n",
    "types depending on context.\n"
   ]
  },
  {
   "cell_type": "code",
   "execution_count": null,
   "metadata": {
    "colab": {
     "base_uri": "https://localhost:8080/"
    },
    "executionInfo": {
     "elapsed": 269,
     "status": "ok",
     "timestamp": 1646031574062,
     "user": {
      "displayName": "Lucas Mantovani",
      "photoUrl": "https://lh3.googleusercontent.com/a-/AOh14GhX-VZTzuRqr3XAaQ2Kc1SO9qfY2IVQY7ANsI8PKis=s64",
      "userId": "13989531471486559235"
     },
     "user_tz": 360
    },
    "id": "MPjFzLTiqH5W",
    "outputId": "8a59aac9-1872-4bf6-ef55-7dc49662d320"
   },
   "outputs": [],
   "source": [
    "# Integers\n",
    "v_a = 2\n",
    "v_b = 190\n",
    "\n",
    "# Floats\n",
    "v2 = 2.5\n",
    "v3 = 2.0 # As we can see here, even an integer number can have a float notation\n",
    "\n",
    "# Basic Operations\n",
    "c = v_a + v_b\n",
    "print(\"v_a plus v_b is \" + str(c))\n",
    "\n",
    "d = v2 * v3\n",
    "print(\"v2 times v3 is \"+ str(d))\n",
    "\n",
    "e = v2 / v3\n",
    "print(\"v2 divided by v3 is \"+ str(e))\n",
    "\n",
    "# And so on...\n",
    "print(v2 - v3)\n",
    "print(v2 ** v3)"
   ]
  },
  {
   "cell_type": "code",
   "execution_count": 22,
   "metadata": {},
   "outputs": [
    {
     "name": "stdout",
     "output_type": "stream",
     "text": [
      "a is True\n",
      "a is True\n"
     ]
    }
   ],
   "source": [
    "a = True\n",
    "b = False\n",
    "\n",
    "# Example (We'll learn about if else later):\n",
    "if(a):\n",
    "  print(\"a is True\")\n",
    "else:\n",
    "  print(\"a is False\")\n",
    "\n",
    "## Same as\n",
    "if(a == True):\n",
    "  print(\"a is True\")\n",
    "else:\n",
    "  print(\"a is False\")"
   ]
  },
  {
   "cell_type": "markdown",
   "metadata": {},
   "source": [
    "## 6. Data Structures"
   ]
  },
  {
   "cell_type": "markdown",
   "metadata": {},
   "source": [
    "Data structures in programming are used to organize and store data in an efficient and accessible way. They are different from primitive data types, such as integers and characters, which can only hold one value at a time. Data structures can hold multiple values, and they can be used to represent more complex relationships between data.\n",
    "\n",
    "There are various types of data structures, including arrays, lists, stacks, queues, trees, and graphs. Each data structure has its own set of operations and use cases. For example, arrays are useful for storing and accessing data in a linear fashion, while trees are useful for representing hierarchical relationships between data.\n",
    "\n",
    "Data structures are important in programming because they allow for more efficient and organized processing of data. They can help optimize algorithms and increase the performance of software applications. By using the appropriate data structure for a given task, developers can ensure that their programs are scalable and maintainable."
   ]
  },
  {
   "cell_type": "markdown",
   "metadata": {},
   "source": [
    "### Lists\n",
    "In Python, a list is a collection of values or items that are stored in a sequence. Lists are a fundamental data structure in Python and are commonly used for storing and manipulating data."
   ]
  },
  {
   "cell_type": "markdown",
   "metadata": {},
   "source": [
    "A list is defined using square brackets [] and the values or items within the brackets are separated by commas. For example:"
   ]
  },
  {
   "cell_type": "code",
   "execution_count": 30,
   "metadata": {},
   "outputs": [
    {
     "data": {
      "text/plain": [
       "[1, 2, 3, 4, 5]"
      ]
     },
     "execution_count": 30,
     "metadata": {},
     "output_type": "execute_result"
    }
   ],
   "source": [
    "# Declaring List\n",
    "my_list = [1, 2, 3, 4, 5]\n",
    "my_list"
   ]
  },
  {
   "cell_type": "markdown",
   "metadata": {},
   "source": [
    "In this example, the list named my_list contains 5 integers: 1, 2, 3, 4, and 5.\n",
    "\n",
    "Lists can contain any type of data, including integers, strings, floats, booleans, and even other lists. For example:"
   ]
  },
  {
   "cell_type": "code",
   "execution_count": 31,
   "metadata": {},
   "outputs": [
    {
     "data": {
      "text/plain": [
       "[1, 'hello', 3.14, True, [1, 2, 3]]"
      ]
     },
     "execution_count": 31,
     "metadata": {},
     "output_type": "execute_result"
    }
   ],
   "source": [
    "# Declaring list with different types of data\n",
    "my_list = [1, \"hello\", 3.14, True, [1, 2, 3]]\n",
    "my_list"
   ]
  },
  {
   "cell_type": "markdown",
   "metadata": {},
   "source": [
    "Lists are mutable, which means that you can modify them by adding, removing, or changing elements. You can access elements in a list by their index, which starts at 0. For example:"
   ]
  },
  {
   "cell_type": "code",
   "execution_count": 33,
   "metadata": {},
   "outputs": [
    {
     "name": "stdout",
     "output_type": "stream",
     "text": [
      "2\n"
     ]
    }
   ],
   "source": [
    "my_list = [1, 2, 3, 4, 5]\n",
    "print(my_list[1])"
   ]
  },
  {
   "cell_type": "markdown",
   "metadata": {},
   "source": [
    "Lists support a variety of operations, such as appending elements, removing elements, and sorting elements. For example:"
   ]
  },
  {
   "cell_type": "code",
   "execution_count": 34,
   "metadata": {},
   "outputs": [
    {
     "name": "stdout",
     "output_type": "stream",
     "text": [
      "[1, 2, 3, 4, 5, 6]\n",
      "[1, 2, 4, 5]\n",
      "[1, 2, 3, 4, 5]\n"
     ]
    }
   ],
   "source": [
    "my_list = [1, 2, 3, 4, 5]\n",
    "my_list.append(6)\n",
    "print(my_list) # Output: [1, 2, 3, 4, 5, 6]\n",
    "\n",
    "my_list = [1, 2, 3, 4, 5]\n",
    "my_list.remove(3)\n",
    "print(my_list) # Output: [1, 2, 4, 5]\n",
    "\n",
    "my_list = [3, 1, 4, 2, 5]\n",
    "my_list.sort()\n",
    "print(my_list) # Output: [1, 2, 3, 4, 5]"
   ]
  },
  {
   "cell_type": "markdown",
   "metadata": {},
   "source": [
    "We can iterate over a list with either a for or while loop. In the examples\n",
    "below, the .append() method adds the item to the list. The pop() method removes\n",
    "the item at the assigned index from the list. Both occur inplace. "
   ]
  },
  {
   "cell_type": "markdown",
   "metadata": {},
   "source": [
    "***Reversing a list***"
   ]
  },
  {
   "cell_type": "code",
   "execution_count": 36,
   "metadata": {},
   "outputs": [
    {
     "name": "stdout",
     "output_type": "stream",
     "text": [
      "[5, 4, 3, 2, 1]\n",
      "[1, 2, 3, 4, 5]\n"
     ]
    }
   ],
   "source": [
    "print(my_list)\n",
    "my_list.reverse()\n",
    "print(my_list)"
   ]
  },
  {
   "cell_type": "markdown",
   "metadata": {},
   "source": [
    "* Filtering a list\n",
    "    + Full code available at: https://www.w3schools.com/python/ref_func_filter.asp"
   ]
  },
  {
   "cell_type": "markdown",
   "metadata": {},
   "source": [
    "### Sets"
   ]
  },
  {
   "cell_type": "markdown",
   "metadata": {},
   "source": [
    "In Python, a set is an unordered collection of unique and immutable objects. Sets are used for storing and manipulating data where uniqueness is required. A set is defined using curly braces {} or by using the set() function with a list or tuple as an argument. "
   ]
  },
  {
   "cell_type": "code",
   "execution_count": null,
   "metadata": {},
   "outputs": [],
   "source": [
    "my_set = {1, 2, 3, 4, 5}\n",
    "my_set = set([1, 2, 3, 4, 5])"
   ]
  },
  {
   "cell_type": "markdown",
   "metadata": {},
   "source": [
    "Sets can contain any type of hashable data, including numbers, strings, and tuples (but not lists or dictionaries). For example:"
   ]
  },
  {
   "cell_type": "markdown",
   "metadata": {},
   "source": [
    "Sets are mutable, which means that you can modify them by adding or removing elements. You can also perform operations on sets such as union, intersection, difference, and symmetric difference. For example:"
   ]
  },
  {
   "cell_type": "code",
   "execution_count": 40,
   "metadata": {},
   "outputs": [
    {
     "name": "stdout",
     "output_type": "stream",
     "text": [
      "{1, 2, 3, 4, 5}\n",
      "{3}\n",
      "{1, 2}\n",
      "{1, 2, 4, 5}\n"
     ]
    }
   ],
   "source": [
    "set1 = {1, 2, 3}\n",
    "set2 = {3, 4, 5}\n",
    "union_set = set1.union(set2) # Output: {1, 2, 3, 4, 5}\n",
    "intersection_set = set1.intersection(set2) # Output: {3}\n",
    "difference_set = set1.difference(set2) # Output: {1, 2}\n",
    "symmetric_difference_set = set1.symmetric_difference(set2) # Output: {1, 2, 4, 5}\n",
    "print(union_set)\n",
    "print(intersection_set)\n",
    "print(difference_set)\n",
    "print(symmetric_difference_set)"
   ]
  },
  {
   "cell_type": "markdown",
   "metadata": {},
   "source": [
    "Sets are unordered and they are useful when we want unique values only. For this\n",
    "reason, dictionary keys (which we will study next) are sets. \n",
    "If you want to dive deeper into sets vs lists: https://towardsdatascience.com/python-lists-vs-sets-39bd6b5745e1"
   ]
  },
  {
   "cell_type": "markdown",
   "metadata": {},
   "source": [
    "### Dictionaries"
   ]
  },
  {
   "cell_type": "markdown",
   "metadata": {},
   "source": [
    "In Python, a dictionary is an unordered collection of key-value pairs. Dictionaries are used for storing and manipulating data where each element is identified by a unique key.\n",
    "\n",
    "You can think of a dictionary as in real life. You look up a keyword (i.e. a name) and find the value that corresponds to that name (i.e. address).\n",
    "\n",
    " A dictionary is defined using curly braces {} or by using the dict() constructor function. For example:"
   ]
  },
  {
   "cell_type": "code",
   "execution_count": 41,
   "metadata": {},
   "outputs": [
    {
     "name": "stdout",
     "output_type": "stream",
     "text": [
      "{'name': 'John', 'age': 30, 'city': 'New York'}\n"
     ]
    }
   ],
   "source": [
    "my_dict = {\"name\": \"John\", \"age\": 30, \"city\": \"New York\"}\n",
    "my_dict = dict(name=\"John\", age=30, city=\"New York\")\n",
    "print(my_dict)"
   ]
  },
  {
   "cell_type": "markdown",
   "metadata": {},
   "source": [
    "In these examples, we have created a dictionary named my_dict containing three key-value pairs. The keys are \"name\", \"age\", and \"city\", and their corresponding values are \"John\", 30, and \"New York\".\n",
    "\n",
    "Dictionaries can contain any type of hashable data as keys, including numbers, strings, and tuples (but not lists or dictionaries). Values can be of any type. For example:"
   ]
  },
  {
   "cell_type": "code",
   "execution_count": 43,
   "metadata": {},
   "outputs": [
    {
     "data": {
      "text/plain": [
       "{(1, 2): 'value', 'key': {'nested_key': 'nested_value'}}"
      ]
     },
     "execution_count": 43,
     "metadata": {},
     "output_type": "execute_result"
    }
   ],
   "source": [
    "my_dict = {\"name\": \"John\", \"age\": 30, \"grades\": [80, 90, 95]}\n",
    "my_dict = {(1, 2): \"value\", \"key\": {\"nested_key\": \"nested_value\"}}\n",
    "my_dict"
   ]
  },
  {
   "cell_type": "markdown",
   "metadata": {},
   "source": [
    "Dictionaries are mutable, which means that you can modify them by adding, removing, or updating key-value pairs. You can also perform operations on dictionaries such as iterating over the keys or values, checking if a key or value is in a dictionary, and finding the length of a dictionary. For example:"
   ]
  },
  {
   "cell_type": "code",
   "execution_count": 44,
   "metadata": {},
   "outputs": [
    {
     "name": "stdout",
     "output_type": "stream",
     "text": [
      "dict_keys(['name', 'age', 'grade'])\n",
      "dict_values(['John', 35, 95])\n",
      "True\n",
      "3\n"
     ]
    }
   ],
   "source": [
    "my_dict = {\"name\": \"John\", \"age\": 30, \"city\": \"New York\"}\n",
    "my_dict[\"age\"] = 35 # update the value of \"age\" key\n",
    "my_dict[\"grade\"] = 95 # add a new key-value pair\n",
    "del my_dict[\"city\"] # remove the \"city\" key and its value\n",
    "print(my_dict.keys()) # Output: [\"name\", \"age\", \"grade\"]\n",
    "print(my_dict.values()) # Output: [\"John\", 35, 95]\n",
    "print(\"name\" in my_dict) # Output: True\n",
    "print(len(my_dict)) # Output: 3"
   ]
  }
 ],
 "metadata": {
  "colab": {
   "collapsed_sections": [],
   "name": "Week_1_Code.ipynb",
   "provenance": []
  },
  "kernelspec": {
   "display_name": "Python 3",
   "language": "python",
   "name": "python3"
  },
  "language_info": {
   "codemirror_mode": {
    "name": "ipython",
    "version": 3
   },
   "file_extension": ".py",
   "mimetype": "text/x-python",
   "name": "python",
   "nbconvert_exporter": "python",
   "pygments_lexer": "ipython3",
   "version": "3.8.8"
  },
  "vscode": {
   "interpreter": {
    "hash": "c0160ba2c9041dc15bdcc65733a96c7c821395b2c257095752f7ccb3a0330b17"
   }
  }
 },
 "nbformat": 4,
 "nbformat_minor": 1
}
