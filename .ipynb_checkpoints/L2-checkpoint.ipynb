{
 "cells": [
  {
   "cell_type": "markdown",
   "metadata": {},
   "source": [
    "# PNG Computer Science Lecture 2"
   ]
  },
  {
   "cell_type": "markdown",
   "metadata": {},
   "source": [
    "## 1. Conditionals"
   ]
  },
  {
   "cell_type": "markdown",
   "metadata": {},
   "source": [
    "In Python, conditionals are used to control the flow of program execution based on certain conditions. Conditionals allow you to execute certain code only if a certain condition is true, or to execute different code depending on different conditions.\n",
    "\n",
    "The most common conditional statement in Python is the if statement. The basic syntax for an if statement is as follows:\n"
   ]
  },
  {
   "cell_type": "code",
   "execution_count": 7,
   "metadata": {},
   "outputs": [
    {
     "name": "stdout",
     "output_type": "stream",
     "text": [
      "execute\n"
     ]
    }
   ],
   "source": [
    "# Will execute\n",
    "condition = True\n",
    "if condition:\n",
    "    print(\"execute\")\n",
    "\n",
    "# Won't execute\n",
    "condition = False\n",
    "if condition:\n",
    "    print(\"This won't print\")"
   ]
  },
  {
   "cell_type": "markdown",
   "metadata": {},
   "source": [
    "In this syntax, condition is a boolean expression that evaluates to either True or False. If condition is true, the code inside the if block will be executed. If condition is false, the code inside the if block will be skipped.\n",
    "\n",
    "You can also use an else statement to execute a different block of code if the condition in the if statement is false. The basic syntax for an if-else statement is as follows:"
   ]
  },
  {
   "cell_type": "code",
   "execution_count": 8,
   "metadata": {},
   "outputs": [
    {
     "name": "stdout",
     "output_type": "stream",
     "text": [
      "This else will execute\n"
     ]
    }
   ],
   "source": [
    "# Execute else\n",
    "condition = False\n",
    "if condition:\n",
    "    print(\"This won't execute\")\n",
    "else:\n",
    "    print(\"This else will execute\")"
   ]
  },
  {
   "cell_type": "markdown",
   "metadata": {},
   "source": [
    "In this syntax, if the condition is true, the code inside the if block will be executed. If the condition is false, the code inside the else block will be executed.\n",
    "\n",
    "You can also use an elif statement to check multiple conditions. The basic syntax for an if-elif-else statement is as follows:"
   ]
  },
  {
   "cell_type": "code",
   "execution_count": 9,
   "metadata": {},
   "outputs": [
    {
     "name": "stdout",
     "output_type": "stream",
     "text": [
      "This will execute\n"
     ]
    }
   ],
   "source": [
    "condition1 = False\n",
    "condition2 = False\n",
    "condition3 = True\n",
    "\n",
    "if condition1:\n",
    "    print(\"This won't execute\")\n",
    "elif condition2:\n",
    "    print(\"This won't execute\")\n",
    "elif condition3:\n",
    "    print(\"This will execute\")\n",
    "else:\n",
    "    print(\"This won't execute\")"
   ]
  },
  {
   "cell_type": "markdown",
   "metadata": {},
   "source": [
    "## 2. Ternary Operators and Conditional Expressions"
   ]
  },
  {
   "cell_type": "markdown",
   "metadata": {},
   "source": [
    "Ternary Operators / Conditional Expressions\n",
    "Evaluate something based on a condition provided.\n",
    "This allows us to replace various lines of if / else \n",
    "statements for a single line testing a condiiton. They are written as\n",
    "\n",
    "***value_if_true if condition else value_if_false***"
   ]
  },
  {
   "cell_type": "markdown",
   "metadata": {},
   "source": [
    "Example: Compute the product of two variables if the first is smaller than the second. Otherwise, find the ratio of the second to the first."
   ]
  },
  {
   "cell_type": "code",
   "execution_count": 10,
   "metadata": {},
   "outputs": [
    {
     "name": "stdout",
     "output_type": "stream",
     "text": [
      "x is less than or equal to y\n"
     ]
    }
   ],
   "source": [
    "x = 5\n",
    "y = 10\n",
    "result = \"x is greater than y\" if x > y else \"x is less than or equal to y\"\n",
    "print(result)"
   ]
  },
  {
   "cell_type": "markdown",
   "metadata": {},
   "source": [
    "They can be used in what are called \"list comprehensions\". List comprehensions are a concise and powerful way of creating lists in Python. They allow you to create a new list by applying an expression to each item in an existing list, with optional filtering based on a condition.\n",
    "\n",
    "The basic syntax for a list comprehension is as follows:\n",
    "\n",
    "***new_list = [expression(item) for item in old_list if condition(item)]***"
   ]
  },
  {
   "cell_type": "code",
   "execution_count": 11,
   "metadata": {},
   "outputs": [
    {
     "name": "stdout",
     "output_type": "stream",
     "text": [
      "5.6\n",
      "[1, 2]\n"
     ]
    }
   ],
   "source": [
    "# Can be used in list comprehensions\n",
    "a = [1, 2, 4, 8, 5.6]\n",
    "print(a[4])\n",
    "\n",
    "b = [element for element in a if element < 3]\n",
    "print(b)"
   ]
  },
  {
   "cell_type": "markdown",
   "metadata": {},
   "source": [
    "## 3. Iteration"
   ]
  },
  {
   "cell_type": "markdown",
   "metadata": {},
   "source": [
    "Iteration in Python is the process of repeating a set of operations on each item in a collection of items. In Python, we use loops to iterate over collections such as lists, tuples, and dictionaries."
   ]
  },
  {
   "cell_type": "markdown",
   "metadata": {},
   "source": [
    "### For Loop\n",
    "For loops allow you to execute a collection of commands a set number of times. This can be a set integer, the length of a list, or a value indexed by a certain amount each time. A few examples are as follows:\n",
    "\n",
    "Note: when you use range, it is not inclusive and it starts at index 0."
   ]
  },
  {
   "cell_type": "code",
   "execution_count": 27,
   "metadata": {},
   "outputs": [
    {
     "name": "stdout",
     "output_type": "stream",
     "text": [
      "0\n",
      "1\n",
      "2\n",
      "3\n",
      "4\n"
     ]
    }
   ],
   "source": [
    "# Print the numbers 1-5\n",
    "for i in range(5):\n",
    "    print(i)"
   ]
  },
  {
   "cell_type": "code",
   "execution_count": 18,
   "metadata": {},
   "outputs": [
    {
     "name": "stdout",
     "output_type": "stream",
     "text": [
      "0\n",
      "2\n",
      "4\n"
     ]
    }
   ],
   "source": [
    "# Print the numbers between 0 and 6, indexing every 2\n",
    "for i in range(0, 6, 2):\n",
    "    print(i)"
   ]
  },
  {
   "cell_type": "code",
   "execution_count": 23,
   "metadata": {},
   "outputs": [
    {
     "name": "stdout",
     "output_type": "stream",
     "text": [
      "1\n",
      "2\n",
      "6\n",
      "9\n",
      "10\n"
     ]
    }
   ],
   "source": [
    "# Iterate over the values in the list \n",
    "lst = [1, 2, 6, 9, 10]\n",
    "for val in lst:\n",
    "    print(val)"
   ]
  },
  {
   "cell_type": "code",
   "execution_count": 24,
   "metadata": {},
   "outputs": [
    {
     "name": "stdout",
     "output_type": "stream",
     "text": [
      "1\n",
      "2\n",
      "6\n",
      "9\n",
      "10\n"
     ]
    }
   ],
   "source": [
    "# Same as above but get index of list instead\n",
    "for index in range(len(lst)):\n",
    "    print(lst[index])"
   ]
  },
  {
   "cell_type": "code",
   "execution_count": 26,
   "metadata": {},
   "outputs": [
    {
     "name": "stdout",
     "output_type": "stream",
     "text": [
      "apple\n",
      "banana\n",
      "orange\n",
      "2\n",
      "3\n",
      "4\n",
      "apple 2\n",
      "banana 3\n",
      "orange 4\n"
     ]
    }
   ],
   "source": [
    "# Iterate over a dictionary \n",
    "my_dict = {\"apple\": 2, \"banana\": 3, \"orange\": 4}\n",
    "\n",
    "# iterate over the keys\n",
    "for key in my_dict:\n",
    "    print(key)\n",
    "\n",
    "# iterate over the values\n",
    "for value in my_dict.values():\n",
    "    print(value)\n",
    "\n",
    "# iterate over the key-value pairs\n",
    "for key, value in my_dict.items():\n",
    "    print(key, value)"
   ]
  },
  {
   "cell_type": "markdown",
   "metadata": {},
   "source": [
    "### While Loop"
   ]
  },
  {
   "cell_type": "markdown",
   "metadata": {},
   "source": [
    "In Python, a while loop is another type of loop that allows a program to repeatedly execute a block of code while a certain condition is True.\n",
    "There are 3 main ways you can use a while loop:"
   ]
  },
  {
   "cell_type": "code",
   "execution_count": 33,
   "metadata": {},
   "outputs": [
    {
     "name": "stdout",
     "output_type": "stream",
     "text": [
      "0\n",
      "1\n",
      "2\n",
      "3\n",
      "4\n",
      "5\n"
     ]
    }
   ],
   "source": [
    "# While loop runs infinitely until condition is met and you \n",
    "# \"break\" from the loop\n",
    "k = 0\n",
    "while True:\n",
    "    print(k)\n",
    "    if k == 5:\n",
    "        break\n",
    "    k+=1"
   ]
  },
  {
   "cell_type": "code",
   "execution_count": 36,
   "metadata": {},
   "outputs": [
    {
     "name": "stdout",
     "output_type": "stream",
     "text": [
      "Enter your name: t\n",
      "Enter your name: tod\n",
      "Enter your name: PNG\n"
     ]
    }
   ],
   "source": [
    "# Asks for user input until input is PNG\n",
    "k = True\n",
    "while k == True:\n",
    "    val = input(\"Enter your name: \")\n",
    "    if val == \"PNG\":\n",
    "        k = False"
   ]
  },
  {
   "cell_type": "code",
   "execution_count": 35,
   "metadata": {},
   "outputs": [
    {
     "name": "stdout",
     "output_type": "stream",
     "text": [
      "0\n",
      "1\n",
      "2\n",
      "3\n",
      "4\n"
     ]
    }
   ],
   "source": [
    "# Set number of iterations (similar to for loop)\n",
    "k = 0\n",
    "while k < 5:\n",
    "    print(k)\n",
    "    k+=1"
   ]
  },
  {
   "cell_type": "markdown",
   "metadata": {},
   "source": [
    "### Keywords\n",
    "There are keywords in a loop:\n",
    "1. break: Used to exit a loop immediately. When a break statement is encountered, the loop will terminate and control will be transferred to the statement immediately following the loop.\n",
    "\n",
    "2. continue: Used to skip the current iteration of a loop and move on to the next iteration. When a continue statement is encountered, the current iteration of the loop will be skipped and the loop will move on to the next iteration.\n",
    "\n",
    "3. pass: Used as a placeholder when no action is required in a loop. When a pass statement is encountered, nothing happens and the loop continues to the next iteration.\n",
    "\n",
    "4. return: Used to exit a function and return a value to the caller. When a return statement is encountered within a loop, the loop will terminate and the function will return the specified value.\n",
    "\n",
    "5. else: Used to specify a block of code to execute when the loop completes normally, without encountering a break statement. The else block is executed after the loop has finished iterating over its sequence.\n",
    "\n",
    "6. finally: Used to specify a block of code to execute after the loop has completed, regardless of whether it completed normally or was terminated by a break statement."
   ]
  },
  {
   "cell_type": "code",
   "execution_count": 38,
   "metadata": {},
   "outputs": [
    {
     "name": "stdout",
     "output_type": "stream",
     "text": [
      "1\n",
      "2\n",
      "3\n",
      "4\n",
      "Loop ended.\n"
     ]
    }
   ],
   "source": [
    "# Break example\n",
    "numbers = [1, 2, 3, 4, 5, 6, 7, 8, 9, 10]\n",
    "\n",
    "for num in numbers:\n",
    "    if num == 5:\n",
    "        break  # exit the loop if num equals 5\n",
    "    print(num)\n",
    "\n",
    "print(\"Loop ended.\")"
   ]
  },
  {
   "cell_type": "code",
   "execution_count": 39,
   "metadata": {},
   "outputs": [
    {
     "name": "stdout",
     "output_type": "stream",
     "text": [
      "1\n",
      "3\n",
      "5\n",
      "7\n",
      "9\n",
      "Loop ended.\n"
     ]
    }
   ],
   "source": [
    "# Continue example\n",
    "numbers = [1, 2, 3, 4, 5, 6, 7, 8, 9, 10]\n",
    "\n",
    "for num in numbers:\n",
    "    if num % 2 == 0:\n",
    "        continue  # skip even numbers\n",
    "    print(num)\n",
    "\n",
    "print(\"Loop ended.\")"
   ]
  },
  {
   "cell_type": "code",
   "execution_count": 40,
   "metadata": {},
   "outputs": [
    {
     "name": "stdout",
     "output_type": "stream",
     "text": [
      "0\n",
      "1\n",
      "2\n",
      "3\n",
      "4\n",
      "6\n",
      "7\n",
      "8\n",
      "9\n"
     ]
    }
   ],
   "source": [
    "# Pass example\n",
    "for i in range(10):\n",
    "    if i == 5:\n",
    "        pass  # do nothing when i equals 5\n",
    "    else:\n",
    "        print(i)"
   ]
  },
  {
   "cell_type": "markdown",
   "metadata": {},
   "source": [
    "## 4. Recursion"
   ]
  },
  {
   "cell_type": "markdown",
   "metadata": {},
   "source": [
    "Recursion is a powerful concept in computer programming where a function calls itself repeatedly until a condition is met. In Python, recursion is a technique that allows a function to call itself, either directly or indirectly, to solve a problem.\n",
    "\n",
    "The basic idea behind recursion is to break a complex problem into smaller, simpler subproblems that can be solved more easily. The function calls itself with smaller inputs until it reaches the simplest possible case, which is called the base case. Once the base case is reached, the function starts returning values back up the call stack until the original problem is solved.\n",
    "\n",
    "A simple example of recursion in Python is the factorial function, which is defined as follows:"
   ]
  },
  {
   "cell_type": "code",
   "execution_count": 41,
   "metadata": {},
   "outputs": [],
   "source": [
    "def factorial(n):\n",
    "    if n == 0:\n",
    "        return 1\n",
    "    else:\n",
    "        return n * factorial(n-1)"
   ]
  },
  {
   "attachments": {
    "image.png": {
     "image/png": "[encoded data removed]"
    }
   },
   "cell_type": "markdown",
   "metadata": {},
   "source": [
    "![image.png](attachment:image.png)\n",
    "In this example, the factorial function calls itself with a smaller input (n-1) until it reaches the base case of n = 0. Once the base case is reached, the function starts returning values back up the call stack until the original problem of computing the factorial of n is solved.\n",
    "\n",
    "Recursion can be a powerful and elegant solution to many programming problems, but it can also be tricky to implement correctly. It's important to ensure that the recursive function will eventually reach the base case and terminate, or else it will enter an infinite loop and crash the program. Recursion can also be less efficient than iterative solutions, since it requires more memory to keep track of the call stack."
   ]
  },
  {
   "cell_type": "markdown",
   "metadata": {},
   "source": [
    "Be careful --  we can also fall into the trap of infinite loops. This makes\n",
    "our program crash, since it will keep re-running the function over and over again.\n",
    "\n",
    "```\n",
    "def infinite(bool):\n",
    "\n",
    "    infinite(True)\n",
    "\n",
    "infinite()\n",
    "```"
   ]
  },
  {
   "cell_type": "markdown",
   "metadata": {},
   "source": [
    "## 5. File I/O"
   ]
  },
  {
   "cell_type": "markdown",
   "metadata": {},
   "source": [
    "+ Manipulating file locations and directories, importing, and installing packages\n",
    "+ As we mentioned before, we import packages using \"import\". However, there are\n",
    "more specific ways of accomplishing what we want with that package."
   ]
  },
  {
   "cell_type": "code",
   "execution_count": null,
   "metadata": {
    "colab": {
     "base_uri": "https://localhost:8080/",
     "height": 273
    },
    "id": "tVAtuQaxqmm3",
    "outputId": "dafb7884-417b-4502-8da1-9b5a5bef225e"
   },
   "outputs": [],
   "source": [
    "import os # Here, we import everything included in the \"os\" package\n",
    "\n",
    "from os import path as p  # Here, we are only interested in the \"path\" component of the module\n",
    "                          # \"os\". We call that path component \"p\""
   ]
  },
  {
   "cell_type": "markdown",
   "metadata": {},
   "source": [
    "In this example, we are using a built-in package called \"os\", which stands for\n",
    "operating system. However, you can also import other Python files in the same\n",
    "directory as your code using the same import notation. For example, if I had a\n",
    "file named \"my_functions.py\" in the same folder as this file, I could write:\n",
    "\n",
    "```\n",
    "import my_functions as fs\n",
    "```\n",
    "\n",
    "Notice how the .py file ending goes away when we import a Python file like a \n",
    "module. If my_functions.py contained the function add_2, we could then reference\n",
    "this function in our code as such:\n",
    "\n",
    "```\n",
    "fs.add_2()\n",
    "```\n",
    "\n",
    "Furthermore, if we were ONLY interested in this function out of all of the ones\n",
    "provided in my_functions, we could only write:\n",
    "\n",
    "```\n",
    "from my_functions import add_2\n",
    "```\n",
    "\n",
    "and the same line of code would work!"
   ]
  },
  {
   "cell_type": "code",
   "execution_count": null,
   "metadata": {},
   "outputs": [],
   "source": [
    "\n",
    "f_path = 'c:\\Project\\input.txt'\n",
    "\n",
    "# I can just write this instead of typing \"os.path.basename\"\n",
    "b_name = p.basename(f_path)\n",
    "print(b_name)\n",
    "\n",
    "f_path='c:\\Project\\input.txt'\n",
    "splitted = os.path.splitext(f_path)\n",
    "print(splitted, splitted[0])\n",
    "# More info about this code: https://www.delftstack.com/howto/python/get-directory-from-path-in-python/\n",
    "\n",
    "# Reading from and writing to a file -- let's use the \"with\" statement:\n",
    "my_variable = 10\n",
    "with open(\"myfile.txt\", \"w\") as file1:\n",
    "    # Writing data to a file\n",
    "    lines = [\"What season is it?\\n\", \"Spring\\n\"]\n",
    "    file1.write(\"Hello \\n\")\n",
    "    file1.write(my_variable)\n",
    "    file1.writelines(lines)\n",
    "    file1.close()  # to change file access modes\n",
    "\n",
    "with open(\"myfile.txt\", \"r\") as file1:\n",
    "    # Reading from a file\n",
    "    print(file1.read())\n"
   ]
  },
  {
   "cell_type": "markdown",
   "metadata": {},
   "source": [
    "* \"w\" indicates \"write\". This overwrites the file. \n",
    "* \"r\" -- indicates \"read\". Only retrives info from the file, line by line. \n",
    "* \"a\" -- indicates \"append\". Unlike \"write\", adds lines without deleting. </br>\n",
    "\n",
    "Similar methods as the ones shown above are often used for CSV files as well!\n",
    "More about this code and reading/writing from files with Python:\n",
    "https://www.geeksforgeeks.org/how-to-read-from-a-file-in-python/"
   ]
  },
  {
   "cell_type": "code",
   "execution_count": null,
   "metadata": {},
   "outputs": [],
   "source": [
    "# Alternative notation:\n",
    "f = open(\"myfile.txt\", \"r\") # Reading\n",
    "f = open(\"myfile.txt\", \"w\") # Writing\n",
    "f = open(\"myfile.txt\", \"a\") # Appending"
   ]
  },
  {
   "cell_type": "markdown",
   "metadata": {},
   "source": [
    "\n",
    "LASTLY:\n",
    "How do we install cool packages that we see online? </br>\n",
    "Go to the terminal and type:\n",
    "\n",
    "```\n",
    "pip install pckg_name\n",
    "```\n",
    "\n",
    "pip means \"Python Install package\". For example, to install the package pandas, type:\n",
    "\n",
    "```\n",
    "pip install pandas\n",
    "```\n",
    "\n",
    "To install the package numpy,\n",
    "\n",
    "```\n",
    "pip install numpy\n",
    "```\n",
    "\n",
    "This is super useful to know, and it is often helpful to specify which version of\n",
    "each package you want to install for compatibility reasons. It is often helpful to\n",
    "control for different package versions with virtual environments. If you want to\n",
    "learn what those are, check out: \n",
    "https://www.dataquest.io/blog/a-complete-guide-to-python-virtual-environments/"
   ]
  }
 ],
 "metadata": {
  "colab": {
   "collapsed_sections": [],
   "name": "Week_3_Code.ipynb",
   "provenance": []
  },
  "kernelspec": {
   "display_name": "Python 3",
   "language": "python",
   "name": "python3"
  },
  "language_info": {
   "codemirror_mode": {
    "name": "ipython",
    "version": 3
   },
   "file_extension": ".py",
   "mimetype": "text/x-python",
   "name": "python",
   "nbconvert_exporter": "python",
   "pygments_lexer": "ipython3",
   "version": "3.8.8"
  },
  "vscode": {
   "interpreter": {
    "hash": "c0160ba2c9041dc15bdcc65733a96c7c821395b2c257095752f7ccb3a0330b17"
   }
  }
 },
 "nbformat": 4,
 "nbformat_minor": 1
}
