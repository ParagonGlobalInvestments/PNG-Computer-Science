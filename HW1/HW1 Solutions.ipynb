{
 "cells": [
  {
   "cell_type": "code",
   "execution_count": 1,
   "id": "dfa55403",
   "metadata": {},
   "outputs": [],
   "source": [
    "# 1. Define a function called print_name_and_age that takes in two arguments, name and age, and prints out a formatted string that says \"My name is {name} and I am {age} years old.\"\n",
    "def print_name_and_age(name, age):\n",
    "    print(f\"My name is {name} and I am {age} years old.\")"
   ]
  },
  {
   "cell_type": "code",
   "execution_count": 2,
   "id": "0fdabd6a",
   "metadata": {},
   "outputs": [],
   "source": [
    "# 2. Define a function called arithmetic_operations that takes in two arguments, num1 and num2, and prints out the sum, difference, product, and quotient of the two numbers.\n",
    "def arithmetic_operations(num1, num2):\n",
    "    sum = num1 + num2\n",
    "    difference = num1 - num2\n",
    "    product = num1 * num2\n",
    "    quotient = num1 / num2\n",
    "    print(f\"The sum is {sum}\")\n",
    "    print(f\"The difference is {difference}\")\n",
    "    print(f\"The product is {product}\")\n",
    "    print(f\"The quotient is {quotient}\")"
   ]
  },
  {
   "cell_type": "code",
   "execution_count": 3,
   "id": "93924de6",
   "metadata": {},
   "outputs": [],
   "source": [
    "# 3. Define a function called print_even_numbers that creates a list of numbers from 1 to 10 and prints out only the even numbers from the list.\n",
    "def print_even_numbers():\n",
    "    numbers = list(range(1, 11))\n",
    "    even_numbers = [number for number in numbers if number % 2 == 0]\n",
    "    print(even_numbers)"
   ]
  },
  {
   "cell_type": "code",
   "execution_count": 4,
   "id": "f83b2d6c",
   "metadata": {},
   "outputs": [],
   "source": [
    "# 4. Define a function called set_operations that creates two sets of numbers (e.g., {1, 2, 3}) and uses boolean operations to find their union, intersection, and difference. The function should print out each of the three results.\n",
    "def set_operations():\n",
    "    set1 = {1, 2, 3, 4}\n",
    "    set2 = {3, 4, 5, 6}\n",
    "    union = set1 | set2\n",
    "    intersection = set1 & set2\n",
    "    difference = set1 - set2\n",
    "    print(f\"The union is {union}\")\n",
    "    print(f\"The intersection is {intersection}\")\n",
    "    print(f\"The difference is {difference}\")"
   ]
  },
  {
   "cell_type": "code",
   "execution_count": null,
   "id": "675507fd",
   "metadata": {},
   "outputs": [],
   "source": [
    "# 5. Define a function called find_oldest_person that creates a dictionary with keys and values representing the name and age of five people. The function should find the person with the highest age and print out their name and age.\n",
    "def find_oldest_person():\n",
    "    people = {\n",
    "        \"Alice\": 32,\n",
    "        \"Bob\": 28,\n",
    "        \"Charlie\": 35,\n",
    "        \"David\": 23,\n",
    "        \"Emily\": 40\n",
    "    }\n",
    "    oldest_person = max(people, key=people.get)\n",
    "    oldest_age = people[oldest_person]\n",
    "    print(f\"{oldest_person} is the oldest person, and they are {oldest_age} years old.\")"
   ]
  }
 ],
 "metadata": {
  "kernelspec": {
   "display_name": "Python 3",
   "language": "python",
   "name": "python3"
  },
  "language_info": {
   "codemirror_mode": {
    "name": "ipython",
    "version": 3
   },
   "file_extension": ".py",
   "mimetype": "text/x-python",
   "name": "python",
   "nbconvert_exporter": "python",
   "pygments_lexer": "ipython3",
   "version": "3.8.8"
  }
 },
 "nbformat": 4,
 "nbformat_minor": 5
}
