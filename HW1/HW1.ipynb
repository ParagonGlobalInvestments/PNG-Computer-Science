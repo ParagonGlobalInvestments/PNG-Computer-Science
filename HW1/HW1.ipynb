{
 "cells": [
  {
   "cell_type": "markdown",
   "id": "fe344976",
   "metadata": {},
   "source": [
    "# Paragon National Group Computer Science Track\n",
    "# HW1\n",
    "\n",
    "This is the first programming assignment of the computer science track.\n",
    "The questions will cover the topics learned in the first lecture, which entailed\n",
    "variables, basic operations, arrays, and dictionaries.\n",
    "\n",
    "The questions are defined in functions which we will learn in week 2. \n",
    "Imagine functions as clumps of code where we are given values to input.\n",
    "Its like a regular math function like f(x, y) = x + y where we return x + y.\n"
   ]
  },
  {
   "cell_type": "code",
   "execution_count": 1,
   "id": "a6afff72",
   "metadata": {},
   "outputs": [],
   "source": [
    "# 1. Define a function called print_name_and_age that takes in two arguments, name and age,\n",
    "# and prints out a formatted string that says \"My name is {name} and I am {age} years old.\"\n",
    "def print_name_and_age(name, age):\n",
    "    return\n",
    "    # To do"
   ]
  },
  {
   "cell_type": "code",
   "execution_count": 2,
   "id": "0b199f1b",
   "metadata": {},
   "outputs": [],
   "source": [
    "# 2. Define a function called arithmetic_operations that takes in two arguments, num1 and num2, \n",
    "# and prints out the sum, difference, product, and quotient of the two numbers.\n",
    "def arithmetic_operations(num1, num2):\n",
    "    return\n",
    "    # To do"
   ]
  },
  {
   "cell_type": "code",
   "execution_count": 3,
   "id": "8fb3388c",
   "metadata": {},
   "outputs": [],
   "source": [
    "# 3. Define a function called print_even_numbers that creates a list of numbers from 1 to 10 \n",
    "# and prints out only the even numbers from the list.\n",
    "def print_even_numbers():\n",
    "    return\n",
    "    # To do"
   ]
  },
  {
   "cell_type": "code",
   "execution_count": 4,
   "id": "726010c1",
   "metadata": {},
   "outputs": [],
   "source": [
    "# 4. Define a function called set_operations that creates two sets of numbers (e.g., {1, 2, 3}) \n",
    "# and uses boolean operations to find their union, intersection, and difference. \n",
    "# The function should print out each of the three results.\n",
    "def set_operations():\n",
    "    return\n",
    "    # To do"
   ]
  },
  {
   "cell_type": "code",
   "execution_count": 5,
   "id": "a2e33e60",
   "metadata": {},
   "outputs": [],
   "source": [
    "# 5. Define a function called find_oldest_person that creates a dictionary with keys and values \n",
    "# representing the name and age of five people. The function should find the person with the highest\n",
    "#  age and print out their name and age.\n",
    "def find_oldest_person():\n",
    "    return\n",
    "    # To do"
   ]
  }
 ],
 "metadata": {
  "kernelspec": {
   "display_name": "Python 3",
   "language": "python",
   "name": "python3"
  },
  "language_info": {
   "codemirror_mode": {
    "name": "ipython",
    "version": 3
   },
   "file_extension": ".py",
   "mimetype": "text/x-python",
   "name": "python",
   "nbconvert_exporter": "python",
   "pygments_lexer": "ipython3",
   "version": "3.8.8"
  }
 },
 "nbformat": 4,
 "nbformat_minor": 5
}
